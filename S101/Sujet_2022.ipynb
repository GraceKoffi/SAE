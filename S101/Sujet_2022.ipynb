{
 "cells": [
  {
   "cell_type": "markdown",
   "metadata": {
    "deletable": false,
    "editable": false,
    "run_control": {
     "frozen": true
    }
   },
   "source": [
    "# <center> Etude de communautés dans un réseau social</center>\n",
    "<center> SAE 1.01 / 2022 - 23 </center>\n",
    "\n"
   ]
  },
  {
   "cell_type": "markdown",
   "metadata": {
    "deletable": false,
    "editable": false,
    "run_control": {
     "frozen": true
    }
   },
   "source": [
    "Cette SAE est à faire en **binôme**.\n",
    "\n",
    "**Calendrier**\n",
    "- Un contrôle de 2h en lien avec le contenu de cette SAE aura lieu le mercredi **26 octobre** 2022.\n",
    "- Le projet est à rendre le vendredi **28 octobre** 2022. Les modalités de rendu vous seront précisées par votre enseignant.\n",
    "\n",
    "**Evaluation**\n",
    "- Le projet comptera pour 40% de la note de SAE 1.01. <BR>\n",
    "    Il sera particulièrement tenu compte de la qualité du code, des **commentaires** et **docstrings**, des fonctions de **tests unitaires** pour les fonctions renvoyant des résultats. <BR><BR>\n",
    "    \n",
    "- Le contrôle compte pour 60% de la note finale."
   ]
  },
  {
   "cell_type": "markdown",
   "metadata": {
    "deletable": false,
    "editable": false,
    "run_control": {
     "frozen": true
    }
   },
   "source": [
    "## <center> Sujet </center>\n",
    "\n",
    "Une *communauté* est un ensemble de personnes développant des interactions dans un réseau social.\n",
    "\n",
    "Dans ce projet, on étudie des communautés modélisées sous différentes formes. Pour cela, on développe des fonctions permettant d'extraire des informations relatives à ces réseaux. "
   ]
  },
  {
   "cell_type": "markdown",
   "metadata": {
    "deletable": false,
    "editable": false,
    "run_control": {
     "frozen": true
    }
   },
   "source": [
    "On modélise, dans un premier temps, les interactions entre personnes dans un tableau `amis` de chaînes de caractères contenant les prénoms des membres du réseau et tel que `amis[2*i]` a des interactions avec `amis[2*i+1]`.\n",
    "\n",
    "On suppose que chaque interaction n'est décrite qu'une seule fois dans le tableau, et qu'une personne n'a pas d'interaction avec elle-même.\n",
    "\n",
    "**Exemple** : "
   ]
  },
  {
   "cell_type": "code",
   "execution_count": 1,
   "metadata": {
    "deletable": false,
    "editable": false
   },
   "outputs": [],
   "source": [
    "amis = [\"Alice\", \"Bob\", \"Alice\", \"Charlie\", \"Bob\", \"Denis\"]"
   ]
  },
  {
   "cell_type": "markdown",
   "metadata": {
    "deletable": false,
    "editable": false,
    "run_control": {
     "frozen": true
    }
   },
   "source": [
    "Ici, \n",
    "- Alice a des interactions Bob et Charlie, \n",
    "- Bob a des intractions avec Alice et Denis,\n",
    "- Charlie a des interactions avec Alice et\n",
    "- Denis a des interactions avec Bob."
   ]
  },
  {
   "cell_type": "markdown",
   "metadata": {
    "deletable": false,
    "editable": false,
    "run_control": {
     "frozen": true
    }
   },
   "source": [
    "#### Question préliminaire : Modélisation d'un réseau par un tableau\n",
    "\n",
    "Muriel, Yasmine et Joël sont amis. Yasmine est amie avec Thomas. \n",
    "Joël, Nassim, Andrea et Ali sont amis. Thomas est ami de Daria et Carole. Thierry, Axel et Léo sont amis. Léo est ami de Valentin qui est ami d'Andrea.\n",
    "\n",
    "- Construire un tableau `p_amis` qui modélise ce réseau d'amitié en selon le principe qui vient d'être décrit."
   ]
  },
  {
   "cell_type": "code",
   "execution_count": 2,
   "metadata": {},
   "outputs": [],
   "source": [
    "#tableau qui modélise le réseau d'amis\n",
    "p_amis = ['Léo','Thierry','Léo','Valentin','Léo','Axel','Muriel','Yasmine','Muriel','Joël','Yasmine','Joël',\n",
    "          'Yasmine','Thomas','Joël','Nassim','Joël','Andrea','Joël','Ali','Nassim','Andrea','Nassim','Ali',\n",
    "          'Andrea','Ali','Thomas','Daria','Thomas','Carole','Thierry','Axel','Valentin','Andrea']"
   ]
  },
  {
   "cell_type": "markdown",
   "metadata": {
    "deletable": false,
    "editable": false,
    "run_control": {
     "frozen": true
    }
   },
   "source": [
    "#### Question 1 : Nombre d'amis d'une personne\n",
    "\n",
    "- Étant donné un tableau `amis`, écrire une fonction `nb_amis(amis, prenom)` qui retourne le nombre d'amis de `prenom` à partir des données du tableau `amis`. "
   ]
  },
  {
   "cell_type": "code",
   "execution_count": 3,
   "metadata": {},
   "outputs": [
    {
     "name": "stdout",
     "output_type": "stream",
     "text": [
      "Le nombre d'amis est: 5\n"
     ]
    }
   ],
   "source": [
    "def nb_amis(amis,prenom):\n",
    "    '''\n",
    "    Cette fonction retourne le nombre d'amis de prénom à partir du tableau p_amis\n",
    "    Arguments :\n",
    "    amis -- tableau p_amis qui contient toutes les relations\n",
    "    prénom -- passer le prénom dont on veut le tableau d'amis\n",
    "    '''\n",
    "\n",
    "    #initialisation des variables\n",
    "    i = 0\n",
    "    compteur = 0\n",
    "\n",
    "    #on parcours le tableau p_amis\n",
    "    while i < len(amis):\n",
    "        #si le prénom saisie par l'utilisateur est le meme que celui dans le tableau p_amis\n",
    "        if prenom == amis[i]:\n",
    "            #on incrémente le compteur d'amis\n",
    "            compteur += 1\n",
    "\n",
    "        i += 1\n",
    "\n",
    "    return compteur\n",
    "\n",
    "res = nb_amis(p_amis,\"Joël\")\n",
    "print(\"Le nombre d'amis est:\",res)"
   ]
  },
  {
   "cell_type": "code",
   "execution_count": 4,
   "metadata": {},
   "outputs": [
    {
     "name": "stdout",
     "output_type": "stream",
     "text": [
      "La fonction nb_amis est ok\n"
     ]
    }
   ],
   "source": [
    "#test unitaire\n",
    "def test_nb_amis():\n",
    "    assert nb_amis(p_amis,\"Léo\") == 3\n",
    "    assert not nb_amis(amis,\"Yasmine\") == 5\n",
    "    assert nb_amis(p_amis,\"Thomas\") != 2\n",
    "    print(\"La fonction nb_amis est ok\")\n",
    "\n",
    "test_nb_amis()"
   ]
  },
  {
   "cell_type": "markdown",
   "metadata": {
    "deletable": false,
    "editable": false,
    "run_control": {
     "frozen": true
    }
   },
   "source": [
    "#### Question 2 : Nombre de membres d'un réseau social \n",
    "\n",
    "- Ecrire une fonction `taille_reseau(amis)` qui à partir d'un tableau `amis`retourne le nombre de personnes distinctes participant à ce réseau social."
   ]
  },
  {
   "cell_type": "code",
   "execution_count": 5,
   "metadata": {},
   "outputs": [
    {
     "name": "stdout",
     "output_type": "stream",
     "text": [
      "Le nombre de personnes participant à ce réseaux social est: 13\n"
     ]
    }
   ],
   "source": [
    "def taille_reseau(amis):\n",
    "    '''\n",
    "    Cette fonction retourne le nombre de personnes distinctes participant à ce réseau social\n",
    "    Arguments:\n",
    "    amis -- tableau p_amis qui contient toutes les relations\n",
    "    '''\n",
    "\n",
    "    #initialisation des variables\n",
    "    i = 0\n",
    "    compteur = 0 #nombres de personnes\n",
    "    tab_amis = []\n",
    "\n",
    "    while i < len(amis):\n",
    "        #si chaque prenom n'est pas dans le tableau tab_amis\n",
    "        if amis[i] not in tab_amis:\n",
    "            #on l'ajoute à la suite\n",
    "            tab_amis.append(amis[i]) \n",
    "            compteur += 1\n",
    "\n",
    "        i += 1\n",
    "\n",
    "    return compteur\n",
    "\n",
    "res = taille_reseau(p_amis)\n",
    "print(\"Le nombre de personnes participant à ce réseaux social est:\",res)"
   ]
  },
  {
   "cell_type": "code",
   "execution_count": 6,
   "metadata": {},
   "outputs": [
    {
     "name": "stdout",
     "output_type": "stream",
     "text": [
      "La fonction taille_reseau est ok\n"
     ]
    }
   ],
   "source": [
    "#test unitaire\n",
    "def test_taille_reseau():\n",
    "    assert taille_reseau(p_amis) == 13\n",
    "    assert not taille_reseau(p_amis) == 2\n",
    "    assert taille_reseau(p_amis) != 5\n",
    "    print(\"La fonction taille_reseau est ok\")\n",
    "    \n",
    "test_taille_reseau()"
   ]
  },
  {
   "cell_type": "markdown",
   "metadata": {
    "deletable": false,
    "editable": false,
    "run_control": {
     "frozen": true
    }
   },
   "source": [
    "#### Question 3 :  Lecture des données d'un réseau à partir d'un fichier\n",
    "On suppose que les données sur un réseau social sont stockées dans un fichier CSV de la manière suivante :\n",
    "```\n",
    "prenom1;prenom2\n",
    "prenom3;prenom4\n",
    "prenom5;prenom6\n",
    "...\n",
    "```\n",
    "Autrement dit, chaque ligne du fichier contient une paire de prénoms séparés par un `';'` correspondant à deux personnes ayant des interactions. \n",
    "\n",
    "**NB** : Quatre fichiers CSV de ce type sont fournis dans le répertoire `files/`, il s'agit des fichiers`Communaute1.csv`, `Communaute2.csv`,`Communaute3.csv` et `Communaute4.csv`. \n",
    "Il est recommandé d'en fabriquer d'autres. \n",
    "\n",
    "- Ecrire une fonction `lecture_reseau(path)` prenant en paramètre un chemin vers un tel fichier CSV et retournant un tableau modélisant les interactions entre les personnes du fichier."
   ]
  },
  {
   "cell_type": "code",
   "execution_count": 7,
   "metadata": {
    "scrolled": true
   },
   "outputs": [
    {
     "name": "stdout",
     "output_type": "stream",
     "text": [
      "['Giedrius', 'Mady', 'Kirsa', 'Vittore', 'Barbra', 'Faizel', 'Vittorio', 'Vittore', 'Louis', 'Placide', 'Vittorio', 'Barbra', 'Cloe', 'Björn', 'Vittore', 'Barbra', 'Mady', 'Rufino', 'Cloe', 'Vittorio', 'Vittorio', 'Placide', 'Olavi', 'Rufino', 'Vittore', 'Cloe', 'Teodor', 'Cloe', 'Louis', 'Cloe', 'Idelle', 'Mady', 'Illtyd', 'Giedrius', 'Teodor', 'Olavi', 'Vittore', 'Mady', 'Rufino', 'Giedrius', 'Placide', 'Louis', 'Louis', 'Vittorio', 'Giedrius', 'Glenys', 'Björn', 'Olavi', 'Faizel', 'Placide', 'Rufino', 'Illtyd', 'Placide', 'Louis', 'Kirsa', 'Vittorio', 'Mady', 'Placide', 'Illtyd', 'Olavi', 'Vittorio', 'Placide', 'Cloe', 'Mady', 'Rufino', 'Vittorio', 'Placide', 'Rufino', 'Rufino', 'Vittorio', 'Giedrius', 'Illtyd', 'Rufino', 'Teodor', 'Olavi', 'Rufino', 'Placide', 'Jakob', 'Cloe', 'Björn', 'Barbra', 'Kirsa', 'Idelle', 'Cloe', 'Rufino', 'Illtyd', 'Rufino', 'Faizel', 'Rufino', 'Louis', 'Björn', 'Cloe', 'Vittorio', 'Olavi', 'Vittorio', 'Mady', 'Glenys', 'Cloe', 'Björn', 'Idelle', 'Mady', 'Björn', 'Barbra', 'Vittorio', 'Louis', 'Björn', 'Mady', 'Vittorio', 'Illtyd', 'Olavi', 'Olavi', 'Barbra', 'Björn', 'Giedrius', 'Mady', 'Placide', 'Faizel', 'Barbra', 'Marwa', 'Idelle', 'Placide', 'Olavi', 'Olavi', 'Placide', 'Cain', 'Vittorio', 'Louis', 'Placide', 'Jakob', 'Kirsa', 'Barbra', 'Marwa', 'Vittorio', 'Louis', 'Idelle', 'Illtyd', 'Louis', 'Giedrius', 'Olavi', 'Barbra', 'Mady', 'Barbra', 'Barbra', 'Rufino', 'Cloe', 'Barbra', 'Louis', 'Björn', 'Cloe', 'Björn', 'Mady', 'Barbra', 'Rufino', 'Björn', 'Kirsa', 'Vittore', 'Björn', 'Faizel', 'Jakob', 'Kirsa', 'Cloe', 'Vittore', 'Vittore', 'Björn', 'Björn', 'Teodor', 'Barbra', 'Rufino', 'Louis', 'Rufino', 'Vittorio', 'Mady', 'Olavi', 'Teodor', 'Teodor', 'Mady', 'Faizel', 'Olavi', 'Björn', 'Cloe', 'Cloe', 'Idelle', 'Barbra', 'Louis', 'Barbra', 'Vittore', 'Giedrius', 'Vittorio', 'Placide', 'Cain', 'Vittore', 'Louis', 'Mady', 'Jakob', 'Barbra', 'Vittore', 'Björn', 'Mady', 'Placide', 'Rufino', 'Placide', 'Cloe', 'Vittorio', 'Barbra', 'Illtyd', 'Rufino', 'Vittore', 'Louis', 'Olavi', 'Louis']\n"
     ]
    }
   ],
   "source": [
    "def lecture_reseau(path):\n",
    "\n",
    "    f = open(path, \"r\")\n",
    "    i = 0\n",
    "    s = ''\n",
    "    prenom = ''\n",
    "    fa = []\n",
    "    lignes = f.readlines()\n",
    "    f.close()\n",
    "    while i < len(lignes):\n",
    "        s += lignes[i]\n",
    "        i += 1\n",
    "    i = 0\n",
    "    while i < len(s):\n",
    "        if prenom != '' and ';' == s[i] or '\\n' == s[i]:\n",
    "            fa.append(prenom)\n",
    "            prenom = ''\n",
    "            i += 1\n",
    "        else:\n",
    "            prenom += str(s[i])\n",
    "            i += 1\n",
    "    if prenom != '':\n",
    "        fa.append(prenom)\n",
    "    return fa\n",
    "\n",
    "res = lecture_reseau(\"files/Communaute1.csv\")\n",
    "print(res)"
   ]
  },
  {
   "cell_type": "markdown",
   "metadata": {
    "deletable": false,
    "editable": false,
    "run_control": {
     "frozen": true
    }
   },
   "source": [
    "#### Question 4 : Modélisation d'un réseau par un dictionnaire\n",
    "On préfère pour la suite, utiliser une modélisation du réseau social par un dictionnaire dont où les clés sont les prénoms des personnes du réseau et la valeur associé à une clé est le tableau des amis de la personne indiquée par la clé.\n",
    "\n",
    "- A partir d'un tableau `amis` modélisant les interactions entre personnes d'un réseau, écrire une fonction `dico_reseau(amis)` qui retourne un dictionnaire dont les clés sont les prénoms des membres du réseau et les valeurs le tableau de leurs amis."
   ]
  },
  {
   "cell_type": "code",
   "execution_count": 8,
   "metadata": {},
   "outputs": [
    {
     "name": "stdout",
     "output_type": "stream",
     "text": [
      "['Bob', 'Charlie']\n"
     ]
    }
   ],
   "source": [
    "def tab_amis(amis,prenom):\n",
    "    '''\n",
    "    Cette fonction retourne le tableau d'amis de prénom à partir d'un tableau\n",
    "    Arguments :\n",
    "    amis -- tableau qui contient toutes les relations\n",
    "    prénom -- passer le prénom dont on veut le tableau d'amis\n",
    "    '''\n",
    "    #initialisation des variables\n",
    "    i = 0\n",
    "    tab_amis = []\n",
    "\n",
    "    #on parcours le tableau amis\n",
    "    while i < len(amis):\n",
    "        #si le prénom saisie par l'utilisateur est le meme que celui dans le tableau amis\n",
    "        if prenom == amis[i]:\n",
    "            #si prenom est d'indice pair\n",
    "            if i % 2 == 0:\n",
    "                #on ajoute l'ami suivant\n",
    "                tab_amis.append(amis[i+1])\n",
    "\n",
    "            else:\n",
    "                #on ajoute l'ami precedent\n",
    "                tab_amis.append(amis[i-1])\n",
    "\n",
    "        i += 1\n",
    "\n",
    "    return tab_amis\n",
    "\n",
    "print(tab_amis([\"Alice\", \"Bob\", \"Alice\", \"Charlie\", \"Bob\", \"Denis\"],\"Alice\"))"
   ]
  },
  {
   "cell_type": "code",
   "execution_count": 9,
   "metadata": {},
   "outputs": [
    {
     "name": "stdout",
     "output_type": "stream",
     "text": [
      "La fonction tab_amis est ok\n"
     ]
    }
   ],
   "source": [
    "#test unitaire question 4\n",
    "def test_tab_amis():\n",
    "    assert tab_amis(p_amis,\"Léo\") == ['Thierry', 'Valentin', 'Axel']\n",
    "    assert not tab_amis(p_amis,\"Yasmine\") == ['Thierry', 'Valentin', 'Axel','Léo']\n",
    "    assert tab_amis(p_amis,\"Thomas\") != ['Daria', 'Joël', 'Carole']\n",
    "    print(\"La fonction tab_amis est ok\")\n",
    "    \n",
    "test_tab_amis()"
   ]
  },
  {
   "cell_type": "code",
   "execution_count": 10,
   "metadata": {
    "scrolled": true
   },
   "outputs": [
    {
     "name": "stdout",
     "output_type": "stream",
     "text": [
      "Le dictionnaire est {'Léo': ['Thierry', 'Valentin', 'Axel'], 'Thierry': ['Léo', 'Axel'], 'Valentin': ['Léo', 'Andrea'], 'Axel': ['Léo', 'Thierry'], 'Muriel': ['Yasmine', 'Joël'], 'Yasmine': ['Muriel', 'Joël', 'Thomas'], 'Joël': ['Muriel', 'Yasmine', 'Nassim', 'Andrea', 'Ali'], 'Thomas': ['Yasmine', 'Daria', 'Carole'], 'Nassim': ['Joël', 'Andrea', 'Ali'], 'Andrea': ['Joël', 'Nassim', 'Ali', 'Valentin'], 'Ali': ['Joël', 'Nassim', 'Andrea'], 'Daria': ['Thomas'], 'Carole': ['Thomas']}\n"
     ]
    }
   ],
   "source": [
    "def dico_reseau(amis):\n",
    "    '''\n",
    "    Cette fonction retourne un dictionnaire dont les clés sont les prénoms des membres du réseau \n",
    "    et les valeurs, le tableau de leurs amis\n",
    "    Arguments :\n",
    "    amis -- tableau qui contient toutes les relations\n",
    "    '''\n",
    "\n",
    "    #initialisation des variables\n",
    "    dico = {}\n",
    "    i = 0\n",
    "\n",
    "    while i < len(amis):\n",
    "        #si le membre du tableau n'est pas déjà une clé du dictionnaire\n",
    "        if amis[i] not in dico:\n",
    "            #tab_amis_prenom = tableau fait à partir de l'appel de la fonction tab_amis\n",
    "            tab_amis_prenom = tab_amis(amis,amis[i])\n",
    "            #enregistrement du tableau tab_amis_prenom en tant que valeur de chaque clé\n",
    "            dico[amis[i]]= tab_amis_prenom\n",
    "\n",
    "        i += 1\n",
    "\n",
    "    return dico\n",
    "\n",
    "res = dico_reseau(lecture_reseau(\"files/Communaute5.csv\"))\n",
    "print(\"Le dictionnaire est\",res)"
   ]
  },
  {
   "cell_type": "code",
   "execution_count": 11,
   "metadata": {},
   "outputs": [
    {
     "name": "stdout",
     "output_type": "stream",
     "text": [
      "La fonction dico_reseau est ok\n"
     ]
    }
   ],
   "source": [
    "#test unitaire\n",
    "def test_dico_reseau():\n",
    "    assert not dico_reseau(p_amis) == ['Thierry', 'Valentin', 'Axel']\n",
    "    assert dico_reseau(p_amis) == {'Léo': ['Thierry', 'Valentin', 'Axel'],\n",
    "                                   'Thierry': ['Léo', 'Axel'],\n",
    "                                   'Valentin': ['Léo', 'Andrea'],\n",
    "                                   'Axel': ['Léo', 'Thierry'],\n",
    "                                   'Muriel': ['Yasmine', 'Joël'],\n",
    "                                   'Yasmine': ['Muriel', 'Joël', 'Thomas'],\n",
    "                                   'Joël': ['Muriel', 'Yasmine', 'Nassim','Andrea', 'Ali'],\n",
    "                                   'Thomas': ['Yasmine', 'Daria', 'Carole'],\n",
    "                                   'Nassim': ['Joël', 'Andrea', 'Ali'],\n",
    "                                   'Andrea': ['Joël', 'Nassim', 'Ali', 'Valentin'],\n",
    "                                   'Ali': ['Joël', 'Nassim', 'Andrea'],\n",
    "                                   'Daria': ['Thomas'],\n",
    "                                   'Carole': ['Thomas']}\n",
    "\n",
    "    assert dico_reseau([\"Alice\", \"Bob\", \"Alice\", \"Charlie\", \"Bob\", \"Denis\"]) == {'Alice': ['Bob', 'Charlie'],\n",
    "                                    'Bob': ['Alice', 'Denis'], 'Charlie': ['Alice'],'Denis': ['Bob']}\n",
    "    print(\"La fonction dico_reseau est ok\")\n",
    "    \n",
    "test_dico_reseau()"
   ]
  },
  {
   "cell_type": "markdown",
   "metadata": {
    "deletable": false,
    "editable": false,
    "run_control": {
     "frozen": true
    }
   },
   "source": [
    "#### Question 5 : Nombre d'amis des personnes les plus populaires\n",
    "\n",
    "- A partir d'un dictionnaire `dico_reseau` modélisant les interactions dans un réseau d'amis, écrire une fonction `nb_amis_plus_pop (dico_reseau)` qui retourne le nombre d'amis des personnes les plus populaires du réseau."
   ]
  },
  {
   "cell_type": "code",
   "execution_count": 12,
   "metadata": {},
   "outputs": [
    {
     "name": "stdout",
     "output_type": "stream",
     "text": [
      "Le nombre d'amis des personnes les plus populaires du réseau est: 11\n"
     ]
    }
   ],
   "source": [
    "def nb_amis_plus_pop (dico_reseau):\n",
    "    '''\n",
    "    Cette fonction retourne le nombre d'amis des personnes les plus populaires du réseau\n",
    "    Arguments:\n",
    "    dico_reseau -- dictionnaire qui contient les tableaux d'amis de chaque personnes du réseau \n",
    "    '''\n",
    "\n",
    "    #initalisation des variables\n",
    "    i = 0\n",
    "    max_amis = 0\n",
    "    #appel de la fonction dico_reseau et création d'un tableau des valeurs\n",
    "    dico = (list(dico_reseau.values())) \n",
    "\n",
    "    #parcourir le dictionnaire\n",
    "    while i < len(dico):\n",
    "        j = 0\n",
    "        compteur = 0\n",
    "        #parcourir le tableau de chaque valeurs\n",
    "        while j < len(dico[i]):\n",
    "            compteur += 1\n",
    "            j += 1\n",
    "        i += 1\n",
    "\n",
    "        #si on compte plus d'amis que le précédent 'max_amis' alors on le remplace\n",
    "        if max_amis < compteur:\n",
    "            max_amis = compteur\n",
    "\n",
    "    return max_amis\n",
    "\n",
    "#retourne le nombre d'amis de la personne qui a le plus d'amis\n",
    "res = (nb_amis_plus_pop (dico_reseau(lecture_reseau(\"newfiles/Communaute1.csv\"))))\n",
    "print(\"Le nombre d'amis des personnes les plus populaires du réseau est:\", res)"
   ]
  },
  {
   "cell_type": "code",
   "execution_count": 13,
   "metadata": {},
   "outputs": [
    {
     "name": "stdout",
     "output_type": "stream",
     "text": [
      "La fonction nb_amis_plus_pop est ok\n"
     ]
    }
   ],
   "source": [
    "#test unitaire de la fonction nb_amis_plus_pop\n",
    "def test_nb_amis_plus_pop():\n",
    "    assert nb_amis_plus_pop(dico_reseau(amis)) != 5\n",
    "    assert not nb_amis_plus_pop(dico_reseau(p_amis)) == 3\n",
    "    assert nb_amis_plus_pop(dico_reseau(p_amis)) != 9\n",
    "    print(\"La fonction nb_amis_plus_pop est ok\")\n",
    "\n",
    "test_nb_amis_plus_pop()"
   ]
  },
  {
   "cell_type": "markdown",
   "metadata": {
    "deletable": false,
    "editable": false,
    "run_control": {
     "frozen": true
    }
   },
   "source": [
    "#### Question 6 : Personnes les plus populaires\n",
    "\n",
    "- A partir d'un dictionnaire `dico_reseau` modélisant les interactions dans un réseau d'amis, écrire une fonction `les_plus_pop (dico_reseau)` qui retourne un tableau contenant les prénoms de toutes les personnes les plus populaires du réseau."
   ]
  },
  {
   "cell_type": "code",
   "execution_count": 14,
   "metadata": {},
   "outputs": [
    {
     "name": "stdout",
     "output_type": "stream",
     "text": [
      "['Alice', 'Bob']\n"
     ]
    }
   ],
   "source": [
    "def les_plus_pop (dico_reseau):\n",
    "    '''\n",
    "    Cette fonction retourne un tableau contenant les prénoms de toutes les personnes les plus populaires du réseau\n",
    "    Arguments :\n",
    "    dico_reseau -- dictionnaire qui contient les tableaux d'amis de chaque personnes du réseau \n",
    "    '''\n",
    "\n",
    "    #initialisation des variables\n",
    "    i = 0\n",
    "    max_amis = nb_amis_plus_pop(dico_reseau)\n",
    "    prenom = []\n",
    "\n",
    "    #appel de la fonction dico_reseau et création d'un tableau des valeurs\n",
    "    dico = list(dico_reseau.values())\n",
    "    #appel de la fonction dico_reseau et création d'un tableau de clé\n",
    "    cle = list(dico_reseau)\n",
    "\n",
    "    #parcourir le dictionnaire\n",
    "    while i < len(dico):\n",
    "        #si on compte plus d'amis que le précédent 'max_amis' alors on le remplace\n",
    "        #et on enregistre son tableau dans prenom\n",
    "        if max_amis == len(dico[i]):\n",
    "            prenom.append(cle[i])\n",
    "        i += 1\n",
    "        \n",
    "    return prenom\n",
    "\n",
    "#on doit retourner le tableau \"prenom\" qui contient le nom des personnes les plus populaires du réseau\n",
    "res = les_plus_pop (dico_reseau(amis))\n",
    "print(res)"
   ]
  },
  {
   "cell_type": "code",
   "execution_count": 15,
   "metadata": {},
   "outputs": [
    {
     "name": "stdout",
     "output_type": "stream",
     "text": [
      "la fonction les_plus_pop est ok\n"
     ]
    }
   ],
   "source": [
    "#test unitaire de la fonction les_plus_pop\n",
    "def test_les_plus_pop():\n",
    "    \n",
    "    assert les_plus_pop(dico_reseau(amis)) == ['Alice', 'Bob']\n",
    "    assert not les_plus_pop(dico_reseau(p_amis)) == ['Yasmine']\n",
    "    assert les_plus_pop(dico_reseau(amis)) != ['Muriel']\n",
    "    assert les_plus_pop(dico_reseau(lecture_reseau(\"newfiles/Communaute1.csv\"))) == ['Rufino', 'Mady', 'Vittorio']\n",
    "    print(\"la fonction les_plus_pop est ok\")\n",
    "    \n",
    "test_les_plus_pop()"
   ]
  }
 ],
 "metadata": {
  "kernelspec": {
   "display_name": "Python 3 (ipykernel)",
   "language": "python",
   "name": "python3"
  },
  "language_info": {
   "codemirror_mode": {
    "name": "ipython",
    "version": 3
   },
   "file_extension": ".py",
   "mimetype": "text/x-python",
   "name": "python",
   "nbconvert_exporter": "python",
   "pygments_lexer": "ipython3",
   "version": "3.9.2"
  },
  "latex_envs": {
   "LaTeX_envs_menu_present": true,
   "autoclose": false,
   "autocomplete": true,
   "bibliofile": "biblio.bib",
   "cite_by": "apalike",
   "current_citInitial": 1,
   "eqLabelWithNumbers": true,
   "eqNumInitial": 1,
   "hotkeys": {
    "equation": "Ctrl-E",
    "itemize": "Ctrl-I"
   },
   "labels_anchors": false,
   "latex_user_defs": false,
   "report_style_numbering": false,
   "user_envs_cfg": false
  }
 },
 "nbformat": 4,
 "nbformat_minor": 2
}
